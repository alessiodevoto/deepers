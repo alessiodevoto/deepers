{
 "cells": [
  {
   "attachments": {},
   "cell_type": "markdown",
   "metadata": {},
   "source": [
    "# Deepcamp: Codelab 4\n",
    "\n",
    "**In this tutorial we will cover**:\n",
    "\n",
    "- Large Language Models (ever heard of ChatGPT 👀 ?)\n",
    "- LangChain: a tool to allow interaction between LLMs\n",
    "\n",
    "\n",
    "**Author**:\n",
    "- Alessio Devoto (alessio.devoto@uniroma1.it)\n",
    "\n",
    "\n",
    "**Duration**: 50 mins \n",
    "\n",
    "\n",
    "**Warning**: Make sure you have an OpenAI token."
   ]
  },
  {
   "attachments": {},
   "cell_type": "markdown",
   "metadata": {},
   "source": [
    "# Large language models with LangChain\n",
    "\n",
    "1. Set env and try some API requests\n",
    "2. Add some element to the chain and play around a bit\n",
    "3. Question answering given prompt: the problem of context\n",
    "3. Question answering over docs"
   ]
  },
  {
   "cell_type": "code",
   "execution_count": null,
   "metadata": {},
   "outputs": [],
   "source": []
  }
 ],
 "metadata": {
  "language_info": {
   "name": "python"
  },
  "orig_nbformat": 4
 },
 "nbformat": 4,
 "nbformat_minor": 2
}
