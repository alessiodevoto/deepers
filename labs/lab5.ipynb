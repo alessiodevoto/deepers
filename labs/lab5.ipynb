{
  "nbformat": 4,
  "nbformat_minor": 0,
  "metadata": {
    "colab": {
      "provenance": [],
      "authorship_tag": "ABX9TyO3G68SbpMpw2ZFphyHj7/2"
    },
    "kernelspec": {
      "name": "python3",
      "display_name": "Python 3"
    },
    "language_info": {
      "name": "python"
    }
  },
  "cells": [
    {
      "cell_type": "markdown",
      "source": [
        "# Deepcamp: Codelab 5\n",
        "\n",
        "**In this tutorial we will cover**:\n",
        "\n",
        "- Deployment of apps based on ML or DL models\n",
        "\n",
        "\n",
        "**Author**:\n",
        "- Alessio Devoto (alessio.devoto@uniroma1.it)\n",
        "\n",
        "\n",
        "**Duration**: 50 mins \n",
        "\n"
      ],
      "metadata": {
        "id": "z8seNS9m74E7"
      }
    },
    {
      "cell_type": "markdown",
      "source": [
        "1. Basic Gradio intro with a simple example (no ml function) + exercise\n",
        "\n",
        "2. Set up an app that does speech to text\n",
        "\n",
        "\n",
        "3. Set up an app that downloads a pretrained resnet and performs image recognition "
      ],
      "metadata": {
        "id": "y2axuPdY8dEL"
      }
    },
    {
      "cell_type": "markdown",
      "source": [
        "# Deployment of Machine Learning models \n",
        "\n",
        "Let's say you designed and trained a very cool and effective deep learning model. \n",
        "\n",
        "The model is now ready to be tested on a different data and users. What will you do ? \n",
        "\n",
        "- You could get in touch with someone who takes care of designing the infrastructure for your system ➡ expensive and time consuming\n",
        "- You can use a framework for ML apps deployment and start it on any server (of course, you must own a server)\n",
        "\n",
        "---\n",
        "\n",
        "There are a few libraries we can use for this purpose: [Gradio](https://gradio.app/quickstart/), [StreamLit](https://streamlit.io/) and even come with UI features. If you want a lower level control (at the cose of more complexity), you can use [FastApi](https://fastapi.tiangolo.com/) or [Flask](https://flask.palletsprojects.com/en/2.3.x/).\n",
        "\n",
        "Today, we are going to use Gradio, a new library developed by Huggingface for showcasing their own models."
      ],
      "metadata": {
        "id": "tmixIcfvEMNO"
      }
    },
    {
      "cell_type": "markdown",
      "source": [
        "Install necessary libraries as usual"
      ],
      "metadata": {
        "id": "xr2Vuosf_xl8"
      }
    },
    {
      "cell_type": "code",
      "execution_count": null,
      "metadata": {
        "id": "FUEr_HyP7us7"
      },
      "outputs": [],
      "source": [
        "%%capture\n",
        "!pip install -U openai-whisper\n",
        "!pip install gradio"
      ]
    },
    {
      "cell_type": "code",
      "source": [
        "import whisper\n",
        "\n",
        "model = whisper.load_model(\"tiny\")\n",
        "result = model.transcribe(\"app_ex.wav\")\n",
        "print(result[\"text\"])"
      ],
      "metadata": {
        "colab": {
          "base_uri": "https://localhost:8080/"
        },
        "id": "C1hJLY6O_PpI",
        "outputId": "358c2143-6a82-41fd-915c-f0874f13ad4d"
      },
      "execution_count": 2,
      "outputs": [
        {
          "output_type": "stream",
          "name": "stderr",
          "text": [
            "100%|█████████████████████████████████████| 72.1M/72.1M [00:02<00:00, 31.9MiB/s]\n",
            "/usr/local/lib/python3.9/dist-packages/whisper/transcribe.py:114: UserWarning: FP16 is not supported on CPU; using FP32 instead\n",
            "  warnings.warn(\"FP16 is not supported on CPU; using FP32 instead\")\n"
          ]
        },
        {
          "output_type": "stream",
          "name": "stdout",
          "text": [
            " e la fossa è il focale di andata sulla condivisione delle informazioni scientifice e sullo del gruppo di software per ricerca o analisi\n"
          ]
        }
      ]
    },
    {
      "cell_type": "markdown",
      "source": [
        "## 1. Gradio basics\n",
        "\n",
        "Gradio lets you create intuitive User Interfaces in plain Python, by simply listing panels, buttons, text areas etc...\n",
        "\n",
        "All [components](https://gradio.app/docs/#components) must be initialized inside a gradio.Block, which represents an area of the interface.\n",
        "\n",
        "Let's start with a simple example taken from [here](https://gradio.app/docs/#components).\n",
        "\n"
      ],
      "metadata": {
        "id": "WWmsmzZF_3W9"
      }
    },
    {
      "cell_type": "code",
      "source": [
        "import gradio as gr\n",
        "\n",
        "with gr.Blocks() as demo:   # main gradio block, always necessary\n",
        "\n",
        "    # from here we can populate the UI as we wish\n",
        "    gr.Markdown(\"DeepCamp: the best place in the **world**\")\n",
        "    \n",
        "    with gr.Tab(label=\"Flip Text\"):\n",
        "        text_input = gr.Textbox()\n",
        "        text_output = gr.Textbox()\n",
        "        text_button = gr.Button(\"Flip\")\n",
        "   \n",
        "    with gr.Tab(label=\"Flip Image\"):\n",
        "        with gr.Row():\n",
        "            image_input = gr.Image()\n",
        "            image_output = gr.Image()\n",
        "        image_button = gr.Button(\"Flip\")\n",
        "\n",
        "demo.launch()"
      ],
      "metadata": {
        "id": "k71aoJ5lIOLt"
      },
      "execution_count": null,
      "outputs": []
    },
    {
      "cell_type": "markdown",
      "source": [
        "Of course, nothing happens if we click the buttons, as there is no function implemented yet.\n",
        "\n",
        "Let's add simple functions which manipulate the input data and return an output."
      ],
      "metadata": {
        "id": "lqihcJ9AOTQ-"
      }
    },
    {
      "cell_type": "code",
      "source": [
        "import numpy as np\n",
        "import gradio as gr\n",
        "import numpy as np\n",
        "\n",
        "\n",
        "# a function that flips a string\n",
        "def flip_text(x):\n",
        "    return x[::-1]\n",
        "\n",
        "# a function that flips an image\n",
        "def flip_image(x):\n",
        "    return np.fliplr(x)\n",
        "\n",
        "\n",
        "\n",
        "with gr.Blocks() as demo:   # main gradio block, always necessary\n",
        "\n",
        "    # from here we can populate the UI as we wish\n",
        "    gr.Markdown(\"DeepCamp: the best place in the **world**\")\n",
        "    \n",
        "    with gr.Tab(label=\"Flip Text\"):\n",
        "        text_input = gr.Textbox()\n",
        "        text_output = gr.Textbox()\n",
        "        text_button = gr.Button(\"Flip\")\n",
        "   \n",
        "    with gr.Tab(label=\"Flip Image\"):\n",
        "        with gr.Row():\n",
        "            image_input = gr.Image()\n",
        "            image_output = gr.Image()\n",
        "        image_button = gr.Button(\"Flip\")\n",
        "\n",
        "    # assign corresponding function to each button\n",
        "    text_button.click(flip_text, inputs=text_input, outputs=text_output)\n",
        "\n",
        "    # notice that the image is passed to the function as a numpy array\n",
        "    image_button.click(flip_image, inputs=image_input, outputs=image_output)\n",
        "\n",
        "demo.launch()\n"
      ],
      "metadata": {
        "id": "6bFZuhnkII7X"
      },
      "execution_count": null,
      "outputs": []
    },
    {
      "cell_type": "markdown",
      "source": [
        "### Exercise 🏋: write a basic gradio demo\n",
        "\n",
        "Write a gradio demo that given an image blurs it based on the input value provided by the user.\n",
        "\n",
        "For\n",
        "\n"
      ],
      "metadata": {
        "id": "SgGIM-30PokF"
      }
    },
    {
      "cell_type": "code",
      "source": [
        "from scipy.ndimage import gaussian_filter\n",
        "\n",
        "\n",
        "def blur(image, amount):\n",
        "  return gaussian_filter(image, sigma=amount)\n",
        "\n",
        "with gr.Blocks() as demo:   # main gradio block, always necessary\n",
        "\n",
        "  # from here we can populate the UI as we wish\n",
        "  gr.Markdown(\"DeepCamp: the best place in the **world**\")\n",
        "  \n",
        "  with gr.Tab(label=\"Flip Text\"):\n",
        "    blur_amount = gr.Slider(minimum=0, maximum=1)\n",
        "    with gr.Row():\n",
        "        image_input = gr.Image()\n",
        "        image_output = gr.Image()\n",
        "    blur_btn = gr.Button('Blur')\n",
        "\n",
        "  blur_btn.click(blur, inputs=)\n",
        "    "
      ],
      "metadata": {
        "id": "9tQL6n6LK-rX"
      },
      "execution_count": null,
      "outputs": []
    }
  ]
}